{
 "cells": [
  {
   "cell_type": "markdown",
   "metadata": {},
   "source": [
    "# Purpose: a working notebook of my ggplots"
   ]
  },
  {
   "cell_type": "markdown",
   "metadata": {},
   "source": [
    "## Source all the appropriate files and load the resilience data file"
   ]
  },
  {
   "cell_type": "code",
   "execution_count": 43,
   "metadata": {
    "collapsed": true
   },
   "outputs": [],
   "source": [
    "source(\"metrics.R\")\n",
    "source(\"resFuncs.R\")\n",
    "source(\"dataLoad.R\")\n",
    "biDF <- read.csv(\"RoundedBigInfResilience.csv\")\n",
    "biDF <- biDF %>% select(-X.1, -X)"
   ]
  },
  {
   "cell_type": "code",
   "execution_count": 44,
   "metadata": {
    "collapsed": false
   },
   "outputs": [
    {
     "data": {
      "text/html": [
       "<table>\n",
       "<thead><tr><th scope=col>QR</th><th scope=col>EQR</th><th scope=col>Rho</th><th scope=col>extRho</th><th scope=col>statQuoResilience</th><th scope=col>extResilience</th><th scope=col>Infrastructure</th><th scope=col>Scenario</th></tr></thead>\n",
       "<tbody>\n",
       "\t<tr><td>0.80                                </td><td>0.89                                </td><td>0.00                                </td><td>0.00                                </td><td>0.58                                </td><td>0.71                                </td><td>Water.Functionality                 </td><td>bigAsIs.csv                         </td></tr>\n",
       "\t<tr><td>0.93                                </td><td>1.00                                </td><td>0.38                                </td><td>0.50                                </td><td>0.74                                </td><td>0.80                                </td><td>Emergency.Services.Functionality    </td><td>bigAsIs.csv                         </td></tr>\n",
       "\t<tr><td>0.74                                </td><td>0.75                                </td><td>0.00                                </td><td>0.00                                </td><td>0.40                                </td><td>0.43                                </td><td>Critical.Manufacturing.Functionality</td><td>bigAsIs.csv                         </td></tr>\n",
       "\t<tr><td>0.56                                </td><td>0.69                                </td><td>0.13                                </td><td>0.23                                </td><td>0.49                                </td><td>0.65                                </td><td>Transportation.Function             </td><td>bigAsIs.csv                         </td></tr>\n",
       "\t<tr><td>0.89                                </td><td>0.97                                </td><td>0.00                                </td><td>0.00                                </td><td>0.54                                </td><td>0.59                                </td><td>Healthcare.Function                 </td><td>bigAsIs.csv                         </td></tr>\n",
       "\t<tr><td>0.50                                </td><td>0.83                                </td><td>0.00                                </td><td>0.00                                </td><td>0.38                                </td><td>0.64                                </td><td>IT.Function                         </td><td>bigAsIs.csv                         </td></tr>\n",
       "</tbody>\n",
       "</table>\n"
      ],
      "text/latex": [
       "\\begin{tabular}{r|llllllll}\n",
       " QR & EQR & Rho & extRho & statQuoResilience & extResilience & Infrastructure & Scenario\\\\\n",
       "\\hline\n",
       "\t 0.80                                 & 0.89                                 & 0.00                                 & 0.00                                 & 0.58                                 & 0.71                                 & Water.Functionality                  & bigAsIs.csv                         \\\\\n",
       "\t 0.93                                 & 1.00                                 & 0.38                                 & 0.50                                 & 0.74                                 & 0.80                                 & Emergency.Services.Functionality     & bigAsIs.csv                         \\\\\n",
       "\t 0.74                                 & 0.75                                 & 0.00                                 & 0.00                                 & 0.40                                 & 0.43                                 & Critical.Manufacturing.Functionality & bigAsIs.csv                         \\\\\n",
       "\t 0.56                                 & 0.69                                 & 0.13                                 & 0.23                                 & 0.49                                 & 0.65                                 & Transportation.Function              & bigAsIs.csv                         \\\\\n",
       "\t 0.89                                 & 0.97                                 & 0.00                                 & 0.00                                 & 0.54                                 & 0.59                                 & Healthcare.Function                  & bigAsIs.csv                         \\\\\n",
       "\t 0.50                                 & 0.83                                 & 0.00                                 & 0.00                                 & 0.38                                 & 0.64                                 & IT.Function                          & bigAsIs.csv                         \\\\\n",
       "\\end{tabular}\n"
      ],
      "text/markdown": [
       "\n",
       "QR | EQR | Rho | extRho | statQuoResilience | extResilience | Infrastructure | Scenario | \n",
       "|---|---|---|---|---|---|\n",
       "| 0.80                                 | 0.89                                 | 0.00                                 | 0.00                                 | 0.58                                 | 0.71                                 | Water.Functionality                  | bigAsIs.csv                          | \n",
       "| 0.93                                 | 1.00                                 | 0.38                                 | 0.50                                 | 0.74                                 | 0.80                                 | Emergency.Services.Functionality     | bigAsIs.csv                          | \n",
       "| 0.74                                 | 0.75                                 | 0.00                                 | 0.00                                 | 0.40                                 | 0.43                                 | Critical.Manufacturing.Functionality | bigAsIs.csv                          | \n",
       "| 0.56                                 | 0.69                                 | 0.13                                 | 0.23                                 | 0.49                                 | 0.65                                 | Transportation.Function              | bigAsIs.csv                          | \n",
       "| 0.89                                 | 0.97                                 | 0.00                                 | 0.00                                 | 0.54                                 | 0.59                                 | Healthcare.Function                  | bigAsIs.csv                          | \n",
       "| 0.50                                 | 0.83                                 | 0.00                                 | 0.00                                 | 0.38                                 | 0.64                                 | IT.Function                          | bigAsIs.csv                          | \n",
       "\n",
       "\n"
      ],
      "text/plain": [
       "  QR   EQR  Rho  extRho statQuoResilience extResilience\n",
       "1 0.80 0.89 0.00 0.00   0.58              0.71         \n",
       "2 0.93 1.00 0.38 0.50   0.74              0.80         \n",
       "3 0.74 0.75 0.00 0.00   0.40              0.43         \n",
       "4 0.56 0.69 0.13 0.23   0.49              0.65         \n",
       "5 0.89 0.97 0.00 0.00   0.54              0.59         \n",
       "6 0.50 0.83 0.00 0.00   0.38              0.64         \n",
       "  Infrastructure                       Scenario   \n",
       "1 Water.Functionality                  bigAsIs.csv\n",
       "2 Emergency.Services.Functionality     bigAsIs.csv\n",
       "3 Critical.Manufacturing.Functionality bigAsIs.csv\n",
       "4 Transportation.Function              bigAsIs.csv\n",
       "5 Healthcare.Function                  bigAsIs.csv\n",
       "6 IT.Function                          bigAsIs.csv"
      ]
     },
     "metadata": {},
     "output_type": "display_data"
    }
   ],
   "source": [
    "head(biDF)"
   ]
  },
  {
   "cell_type": "markdown",
   "metadata": {},
   "source": [
    "Melt the big data frame, so it is amenable to ggplot2. Infrastructure and Scenario are the id.vars"
   ]
  },
  {
   "cell_type": "code",
   "execution_count": 47,
   "metadata": {
    "collapsed": false
   },
   "outputs": [
    {
     "data": {
      "text/html": [
       "<table>\n",
       "<thead><tr><th scope=col>Infrastructure</th><th scope=col>Scenario</th><th scope=col>variable</th><th scope=col>value</th></tr></thead>\n",
       "<tbody>\n",
       "\t<tr><td>Water.Functionality                 </td><td>bigAsIs.csv                         </td><td>QR                                  </td><td>0.80                                </td></tr>\n",
       "\t<tr><td>Emergency.Services.Functionality    </td><td>bigAsIs.csv                         </td><td>QR                                  </td><td>0.93                                </td></tr>\n",
       "\t<tr><td>Critical.Manufacturing.Functionality</td><td>bigAsIs.csv                         </td><td>QR                                  </td><td>0.74                                </td></tr>\n",
       "\t<tr><td>Transportation.Function             </td><td>bigAsIs.csv                         </td><td>QR                                  </td><td>0.56                                </td></tr>\n",
       "\t<tr><td>Healthcare.Function                 </td><td>bigAsIs.csv                         </td><td>QR                                  </td><td>0.89                                </td></tr>\n",
       "\t<tr><td>IT.Function                         </td><td>bigAsIs.csv                         </td><td>QR                                  </td><td>0.50                                </td></tr>\n",
       "</tbody>\n",
       "</table>\n"
      ],
      "text/latex": [
       "\\begin{tabular}{r|llll}\n",
       " Infrastructure & Scenario & variable & value\\\\\n",
       "\\hline\n",
       "\t Water.Functionality                  & bigAsIs.csv                          & QR                                   & 0.80                                \\\\\n",
       "\t Emergency.Services.Functionality     & bigAsIs.csv                          & QR                                   & 0.93                                \\\\\n",
       "\t Critical.Manufacturing.Functionality & bigAsIs.csv                          & QR                                   & 0.74                                \\\\\n",
       "\t Transportation.Function              & bigAsIs.csv                          & QR                                   & 0.56                                \\\\\n",
       "\t Healthcare.Function                  & bigAsIs.csv                          & QR                                   & 0.89                                \\\\\n",
       "\t IT.Function                          & bigAsIs.csv                          & QR                                   & 0.50                                \\\\\n",
       "\\end{tabular}\n"
      ],
      "text/markdown": [
       "\n",
       "Infrastructure | Scenario | variable | value | \n",
       "|---|---|---|---|---|---|\n",
       "| Water.Functionality                  | bigAsIs.csv                          | QR                                   | 0.80                                 | \n",
       "| Emergency.Services.Functionality     | bigAsIs.csv                          | QR                                   | 0.93                                 | \n",
       "| Critical.Manufacturing.Functionality | bigAsIs.csv                          | QR                                   | 0.74                                 | \n",
       "| Transportation.Function              | bigAsIs.csv                          | QR                                   | 0.56                                 | \n",
       "| Healthcare.Function                  | bigAsIs.csv                          | QR                                   | 0.89                                 | \n",
       "| IT.Function                          | bigAsIs.csv                          | QR                                   | 0.50                                 | \n",
       "\n",
       "\n"
      ],
      "text/plain": [
       "  Infrastructure                       Scenario    variable value\n",
       "1 Water.Functionality                  bigAsIs.csv QR       0.80 \n",
       "2 Emergency.Services.Functionality     bigAsIs.csv QR       0.93 \n",
       "3 Critical.Manufacturing.Functionality bigAsIs.csv QR       0.74 \n",
       "4 Transportation.Function              bigAsIs.csv QR       0.56 \n",
       "5 Healthcare.Function                  bigAsIs.csv QR       0.89 \n",
       "6 IT.Function                          bigAsIs.csv QR       0.50 "
      ]
     },
     "metadata": {},
     "output_type": "display_data"
    },
    {
     "data": {
      "text/html": [
       "<ol class=list-inline>\n",
       "\t<li>bigAsIs.csv</li>\n",
       "\t<li>big16kRec.csv</li>\n",
       "\t<li>big100percentRec.csv</li>\n",
       "\t<li>bigRob.csv</li>\n",
       "\t<li>bigStep.csv</li>\n",
       "</ol>\n"
      ],
      "text/latex": [
       "\\begin{enumerate*}\n",
       "\\item bigAsIs.csv\n",
       "\\item big16kRec.csv\n",
       "\\item big100percentRec.csv\n",
       "\\item bigRob.csv\n",
       "\\item bigStep.csv\n",
       "\\end{enumerate*}\n"
      ],
      "text/markdown": [
       "1. bigAsIs.csv\n",
       "2. big16kRec.csv\n",
       "3. big100percentRec.csv\n",
       "4. bigRob.csv\n",
       "5. bigStep.csv\n",
       "\n",
       "\n"
      ],
      "text/plain": [
       "[1] bigAsIs.csv          big16kRec.csv        big100percentRec.csv\n",
       "[4] bigRob.csv           bigStep.csv         \n",
       "5 Levels: big100percentRec.csv big16kRec.csv bigAsIs.csv ... bigStep.csv"
      ]
     },
     "metadata": {},
     "output_type": "display_data"
    }
   ],
   "source": [
    "mbiDF <- melt(biDF, id.vars = c(\"Infrastructure\", \"Scenario\"))\n",
    "head(mbiDF)\n",
    "unique(mbiDF$Scenario)"
   ]
  },
  {
   "cell_type": "code",
   "execution_count": 46,
   "metadata": {
    "collapsed": false
   },
   "outputs": [
    {
     "data": {},
     "metadata": {},
     "output_type": "display_data"
    },
    {
     "data": {
      "image/png": "[encoded data removed]",
      "text/plain": [
       "plot without title"
      ]
     },
     "metadata": {},
     "output_type": "display_data"
    }
   ],
   "source": [
    "bigPlot <- ggplot(mbiDF, aes(Scenario, value, color = variable)) + geom_point() + facet_grid(variable ~ Infrastructure) + \n",
    "    theme(legend.position = \"none\")\n",
    "## Needs work on the labels on the outside, but tells the general story\n",
    "bigPlot"
   ]
  },
  {
   "cell_type": "code",
   "execution_count": 48,
   "metadata": {
    "collapsed": true
   },
   "outputs": [],
   "source": [
    "## ggsave(\"bigPlot.emf\", plot = last_plot(), width = 6.5, height = 11)"
   ]
  },
  {
   "cell_type": "raw",
   "metadata": {},
   "source": [
    "Doing this all over again for a new version that uses letters for the scenarios."
   ]
  },
  {
   "cell_type": "code",
   "execution_count": 66,
   "metadata": {
    "collapsed": false
   },
   "outputs": [
    {
     "data": {
      "text/html": [
       "<table>\n",
       "<thead><tr><th scope=col>QR</th><th scope=col>EQR</th><th scope=col>Rho</th><th scope=col>extRho</th><th scope=col>statQuoResilience</th><th scope=col>extResilience</th><th scope=col>fileName</th><th scope=col>Infrastructure</th><th scope=col>Scenario</th></tr></thead>\n",
       "<tbody>\n",
       "\t<tr><td>0.80                                </td><td>0.89                                </td><td>0.00                                </td><td>0.00                                </td><td>0.58                                </td><td>0.71                                </td><td>bigAsIs.csv                         </td><td>Water.Functionality                 </td><td>A                                   </td></tr>\n",
       "\t<tr><td>0.93                                </td><td>1.00                                </td><td>0.38                                </td><td>0.50                                </td><td>0.74                                </td><td>0.80                                </td><td>bigAsIs.csv                         </td><td>Emergency.Services.Functionality    </td><td>A                                   </td></tr>\n",
       "\t<tr><td>0.74                                </td><td>0.75                                </td><td>0.00                                </td><td>0.00                                </td><td>0.40                                </td><td>0.43                                </td><td>bigAsIs.csv                         </td><td>Critical.Manufacturing.Functionality</td><td>A                                   </td></tr>\n",
       "\t<tr><td>0.56                                </td><td>0.69                                </td><td>0.13                                </td><td>0.23                                </td><td>0.49                                </td><td>0.65                                </td><td>bigAsIs.csv                         </td><td>Transportation.Function             </td><td>A                                   </td></tr>\n",
       "\t<tr><td>0.89                                </td><td>0.97                                </td><td>0.00                                </td><td>0.00                                </td><td>0.54                                </td><td>0.59                                </td><td>bigAsIs.csv                         </td><td>Healthcare.Function                 </td><td>A                                   </td></tr>\n",
       "\t<tr><td>0.50                                </td><td>0.83                                </td><td>0.00                                </td><td>0.00                                </td><td>0.38                                </td><td>0.64                                </td><td>bigAsIs.csv                         </td><td>IT.Function                         </td><td>A                                   </td></tr>\n",
       "</tbody>\n",
       "</table>\n"
      ],
      "text/latex": [
       "\\begin{tabular}{r|lllllllll}\n",
       " QR & EQR & Rho & extRho & statQuoResilience & extResilience & fileName & Infrastructure & Scenario\\\\\n",
       "\\hline\n",
       "\t 0.80                                 & 0.89                                 & 0.00                                 & 0.00                                 & 0.58                                 & 0.71                                 & bigAsIs.csv                          & Water.Functionality                  & A                                   \\\\\n",
       "\t 0.93                                 & 1.00                                 & 0.38                                 & 0.50                                 & 0.74                                 & 0.80                                 & bigAsIs.csv                          & Emergency.Services.Functionality     & A                                   \\\\\n",
       "\t 0.74                                 & 0.75                                 & 0.00                                 & 0.00                                 & 0.40                                 & 0.43                                 & bigAsIs.csv                          & Critical.Manufacturing.Functionality & A                                   \\\\\n",
       "\t 0.56                                 & 0.69                                 & 0.13                                 & 0.23                                 & 0.49                                 & 0.65                                 & bigAsIs.csv                          & Transportation.Function              & A                                   \\\\\n",
       "\t 0.89                                 & 0.97                                 & 0.00                                 & 0.00                                 & 0.54                                 & 0.59                                 & bigAsIs.csv                          & Healthcare.Function                  & A                                   \\\\\n",
       "\t 0.50                                 & 0.83                                 & 0.00                                 & 0.00                                 & 0.38                                 & 0.64                                 & bigAsIs.csv                          & IT.Function                          & A                                   \\\\\n",
       "\\end{tabular}\n"
      ],
      "text/markdown": [
       "\n",
       "QR | EQR | Rho | extRho | statQuoResilience | extResilience | fileName | Infrastructure | Scenario | \n",
       "|---|---|---|---|---|---|\n",
       "| 0.80                                 | 0.89                                 | 0.00                                 | 0.00                                 | 0.58                                 | 0.71                                 | bigAsIs.csv                          | Water.Functionality                  | A                                    | \n",
       "| 0.93                                 | 1.00                                 | 0.38                                 | 0.50                                 | 0.74                                 | 0.80                                 | bigAsIs.csv                          | Emergency.Services.Functionality     | A                                    | \n",
       "| 0.74                                 | 0.75                                 | 0.00                                 | 0.00                                 | 0.40                                 | 0.43                                 | bigAsIs.csv                          | Critical.Manufacturing.Functionality | A                                    | \n",
       "| 0.56                                 | 0.69                                 | 0.13                                 | 0.23                                 | 0.49                                 | 0.65                                 | bigAsIs.csv                          | Transportation.Function              | A                                    | \n",
       "| 0.89                                 | 0.97                                 | 0.00                                 | 0.00                                 | 0.54                                 | 0.59                                 | bigAsIs.csv                          | Healthcare.Function                  | A                                    | \n",
       "| 0.50                                 | 0.83                                 | 0.00                                 | 0.00                                 | 0.38                                 | 0.64                                 | bigAsIs.csv                          | IT.Function                          | A                                    | \n",
       "\n",
       "\n"
      ],
      "text/plain": [
       "  QR   EQR  Rho  extRho statQuoResilience extResilience fileName   \n",
       "1 0.80 0.89 0.00 0.00   0.58              0.71          bigAsIs.csv\n",
       "2 0.93 1.00 0.38 0.50   0.74              0.80          bigAsIs.csv\n",
       "3 0.74 0.75 0.00 0.00   0.40              0.43          bigAsIs.csv\n",
       "4 0.56 0.69 0.13 0.23   0.49              0.65          bigAsIs.csv\n",
       "5 0.89 0.97 0.00 0.00   0.54              0.59          bigAsIs.csv\n",
       "6 0.50 0.83 0.00 0.00   0.38              0.64          bigAsIs.csv\n",
       "  Infrastructure                       Scenario\n",
       "1 Water.Functionality                  A       \n",
       "2 Emergency.Services.Functionality     A       \n",
       "3 Critical.Manufacturing.Functionality A       \n",
       "4 Transportation.Function              A       \n",
       "5 Healthcare.Function                  A       \n",
       "6 IT.Function                          A       "
      ]
     },
     "metadata": {},
     "output_type": "display_data"
    },
    {
     "data": {
      "text/html": [
       "<table>\n",
       "<thead><tr><th scope=col>Infrastructure</th><th scope=col>Scenario</th><th scope=col>fileName</th><th scope=col>variable</th><th scope=col>value</th></tr></thead>\n",
       "<tbody>\n",
       "\t<tr><td>Water.Functionality                 </td><td>A                                   </td><td>bigAsIs.csv                         </td><td>QR                                  </td><td>0.80                                </td></tr>\n",
       "\t<tr><td>Emergency.Services.Functionality    </td><td>A                                   </td><td>bigAsIs.csv                         </td><td>QR                                  </td><td>0.93                                </td></tr>\n",
       "\t<tr><td>Critical.Manufacturing.Functionality</td><td>A                                   </td><td>bigAsIs.csv                         </td><td>QR                                  </td><td>0.74                                </td></tr>\n",
       "\t<tr><td>Transportation.Function             </td><td>A                                   </td><td>bigAsIs.csv                         </td><td>QR                                  </td><td>0.56                                </td></tr>\n",
       "\t<tr><td>Healthcare.Function                 </td><td>A                                   </td><td>bigAsIs.csv                         </td><td>QR                                  </td><td>0.89                                </td></tr>\n",
       "\t<tr><td>IT.Function                         </td><td>A                                   </td><td>bigAsIs.csv                         </td><td>QR                                  </td><td>0.50                                </td></tr>\n",
       "</tbody>\n",
       "</table>\n"
      ],
      "text/latex": [
       "\\begin{tabular}{r|lllll}\n",
       " Infrastructure & Scenario & fileName & variable & value\\\\\n",
       "\\hline\n",
       "\t Water.Functionality                  & A                                    & bigAsIs.csv                          & QR                                   & 0.80                                \\\\\n",
       "\t Emergency.Services.Functionality     & A                                    & bigAsIs.csv                          & QR                                   & 0.93                                \\\\\n",
       "\t Critical.Manufacturing.Functionality & A                                    & bigAsIs.csv                          & QR                                   & 0.74                                \\\\\n",
       "\t Transportation.Function              & A                                    & bigAsIs.csv                          & QR                                   & 0.56                                \\\\\n",
       "\t Healthcare.Function                  & A                                    & bigAsIs.csv                          & QR                                   & 0.89                                \\\\\n",
       "\t IT.Function                          & A                                    & bigAsIs.csv                          & QR                                   & 0.50                                \\\\\n",
       "\\end{tabular}\n"
      ],
      "text/markdown": [
       "\n",
       "Infrastructure | Scenario | fileName | variable | value | \n",
       "|---|---|---|---|---|---|\n",
       "| Water.Functionality                  | A                                    | bigAsIs.csv                          | QR                                   | 0.80                                 | \n",
       "| Emergency.Services.Functionality     | A                                    | bigAsIs.csv                          | QR                                   | 0.93                                 | \n",
       "| Critical.Manufacturing.Functionality | A                                    | bigAsIs.csv                          | QR                                   | 0.74                                 | \n",
       "| Transportation.Function              | A                                    | bigAsIs.csv                          | QR                                   | 0.56                                 | \n",
       "| Healthcare.Function                  | A                                    | bigAsIs.csv                          | QR                                   | 0.89                                 | \n",
       "| IT.Function                          | A                                    | bigAsIs.csv                          | QR                                   | 0.50                                 | \n",
       "\n",
       "\n"
      ],
      "text/plain": [
       "  Infrastructure                       Scenario fileName    variable value\n",
       "1 Water.Functionality                  A        bigAsIs.csv QR       0.80 \n",
       "2 Emergency.Services.Functionality     A        bigAsIs.csv QR       0.93 \n",
       "3 Critical.Manufacturing.Functionality A        bigAsIs.csv QR       0.74 \n",
       "4 Transportation.Function              A        bigAsIs.csv QR       0.56 \n",
       "5 Healthcare.Function                  A        bigAsIs.csv QR       0.89 \n",
       "6 IT.Function                          A        bigAsIs.csv QR       0.50 "
      ]
     },
     "metadata": {},
     "output_type": "display_data"
    },
    {
     "data": {
      "text/html": [
       "<ol class=list-inline>\n",
       "\t<li>A</li>\n",
       "\t<li>B</li>\n",
       "\t<li>C</li>\n",
       "\t<li>D</li>\n",
       "\t<li>E</li>\n",
       "</ol>\n"
      ],
      "text/latex": [
       "\\begin{enumerate*}\n",
       "\\item A\n",
       "\\item B\n",
       "\\item C\n",
       "\\item D\n",
       "\\item E\n",
       "\\end{enumerate*}\n"
      ],
      "text/markdown": [
       "1. A\n",
       "2. B\n",
       "3. C\n",
       "4. D\n",
       "5. E\n",
       "\n",
       "\n"
      ],
      "text/plain": [
       "[1] A B C D E\n",
       "Levels: A B C D E"
      ]
     },
     "metadata": {},
     "output_type": "display_data"
    }
   ],
   "source": [
    "biDF2 <- read.csv(\"roundedBI2.csv\")\n",
    "biDF2 <- select(biDF2,-X, -X.1)\n",
    "head(biDF2)\n",
    "mbiDF2 <- melt(biDF2, id.vars = c(\"Infrastructure\", \"Scenario\", \"fileName\"))\n",
    "head(mbiDF2)\n",
    "unique(mbiDF2$Scenario)"
   ]
  },
  {
   "cell_type": "code",
   "execution_count": 67,
   "metadata": {
    "collapsed": false
   },
   "outputs": [
    {
     "data": {},
     "metadata": {},
     "output_type": "display_data"
    },
    {
     "data": {
      "image/png": "[encoded data removed]",
      "text/plain": [
       "plot without title"
      ]
     },
     "metadata": {},
     "output_type": "display_data"
    }
   ],
   "source": [
    "bigPlot2 <- ggplot(mbiDF2, aes(Scenario, value, color = variable)) + geom_point() + facet_grid(variable ~ Infrastructure) + \n",
    "    theme(legend.position = \"none\")\n",
    "## Needs work on the labels on the outside, but tells the general story\n",
    "bigPlot2"
   ]
  },
  {
   "cell_type": "code",
   "execution_count": null,
   "metadata": {
    "collapsed": true
   },
   "outputs": [],
   "source": []
  }
 ],
 "metadata": {
  "kernelspec": {
   "display_name": "R",
   "language": "R",
   "name": "ir"
  },
  "language_info": {
   "codemirror_mode": "r",
   "file_extension": ".r",
   "mimetype": "text/x-r-source",
   "name": "R",
   "pygments_lexer": "r",
   "version": "3.3.2"
  }
 },
 "nbformat": 4,
 "nbformat_minor": 0
}
