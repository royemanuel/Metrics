{
 "cells": [
  {
   "cell_type": "markdown",
   "metadata": {},
   "source": [
    "# Purpose: a working notebook of my ggplots"
   ]
  },
  {
   "cell_type": "markdown",
   "metadata": {},
   "source": [
    "## Source all the appropriate files and load the resilience data file"
   ]
  },
  {
   "cell_type": "code",
   "execution_count": 10,
   "metadata": {
    "collapsed": true
   },
   "outputs": [],
   "source": [
    "source(\"metrics.R\")\n",
    "source(\"resFuncs.R\")\n",
    "biDF <- read.csv(\"RoundedBigInfResilience.csv\")\n",
    "biDF <- biDF %>% select(-X.1, -X)"
   ]
  },
  {
   "cell_type": "code",
   "execution_count": 12,
   "metadata": {
    "collapsed": false
   },
   "outputs": [
    {
     "data": {
      "text/html": [
       "<table>\n",
       "<thead><tr><th scope=col>QR</th><th scope=col>EQR</th><th scope=col>Rho</th><th scope=col>extRho</th><th scope=col>statQuoResilience</th><th scope=col>extResilience</th><th scope=col>Infrastructure</th><th scope=col>Scenario</th></tr></thead>\n",
       "<tbody>\n",
       "\t<tr><td>0.80                                </td><td>0.89                                </td><td>0.00                                </td><td>0.00                                </td><td>0.58                                </td><td>0.71                                </td><td>Water.Functionality                 </td><td>bigAsIs.csv                         </td></tr>\n",
       "\t<tr><td>0.93                                </td><td>1.00                                </td><td>0.38                                </td><td>0.50                                </td><td>0.74                                </td><td>0.80                                </td><td>Emergency.Services.Functionality    </td><td>bigAsIs.csv                         </td></tr>\n",
       "\t<tr><td>0.74                                </td><td>0.75                                </td><td>0.00                                </td><td>0.00                                </td><td>0.40                                </td><td>0.43                                </td><td>Critical.Manufacturing.Functionality</td><td>bigAsIs.csv                         </td></tr>\n",
       "\t<tr><td>0.56                                </td><td>0.69                                </td><td>0.13                                </td><td>0.23                                </td><td>0.49                                </td><td>0.65                                </td><td>Transportation.Function             </td><td>bigAsIs.csv                         </td></tr>\n",
       "\t<tr><td>0.89                                </td><td>0.97                                </td><td>0.00                                </td><td>0.00                                </td><td>0.54                                </td><td>0.59                                </td><td>Healthcare.Function                 </td><td>bigAsIs.csv                         </td></tr>\n",
       "\t<tr><td>0.50                                </td><td>0.83                                </td><td>0.00                                </td><td>0.00                                </td><td>0.38                                </td><td>0.64                                </td><td>IT.Function                         </td><td>bigAsIs.csv                         </td></tr>\n",
       "</tbody>\n",
       "</table>\n"
      ],
      "text/latex": [
       "\\begin{tabular}{r|llllllll}\n",
       " QR & EQR & Rho & extRho & statQuoResilience & extResilience & Infrastructure & Scenario\\\\\n",
       "\\hline\n",
       "\t 0.80                                 & 0.89                                 & 0.00                                 & 0.00                                 & 0.58                                 & 0.71                                 & Water.Functionality                  & bigAsIs.csv                         \\\\\n",
       "\t 0.93                                 & 1.00                                 & 0.38                                 & 0.50                                 & 0.74                                 & 0.80                                 & Emergency.Services.Functionality     & bigAsIs.csv                         \\\\\n",
       "\t 0.74                                 & 0.75                                 & 0.00                                 & 0.00                                 & 0.40                                 & 0.43                                 & Critical.Manufacturing.Functionality & bigAsIs.csv                         \\\\\n",
       "\t 0.56                                 & 0.69                                 & 0.13                                 & 0.23                                 & 0.49                                 & 0.65                                 & Transportation.Function              & bigAsIs.csv                         \\\\\n",
       "\t 0.89                                 & 0.97                                 & 0.00                                 & 0.00                                 & 0.54                                 & 0.59                                 & Healthcare.Function                  & bigAsIs.csv                         \\\\\n",
       "\t 0.50                                 & 0.83                                 & 0.00                                 & 0.00                                 & 0.38                                 & 0.64                                 & IT.Function                          & bigAsIs.csv                         \\\\\n",
       "\\end{tabular}\n"
      ],
      "text/markdown": [
       "\n",
       "QR | EQR | Rho | extRho | statQuoResilience | extResilience | Infrastructure | Scenario | \n",
       "|---|---|---|---|---|---|\n",
       "| 0.80                                 | 0.89                                 | 0.00                                 | 0.00                                 | 0.58                                 | 0.71                                 | Water.Functionality                  | bigAsIs.csv                          | \n",
       "| 0.93                                 | 1.00                                 | 0.38                                 | 0.50                                 | 0.74                                 | 0.80                                 | Emergency.Services.Functionality     | bigAsIs.csv                          | \n",
       "| 0.74                                 | 0.75                                 | 0.00                                 | 0.00                                 | 0.40                                 | 0.43                                 | Critical.Manufacturing.Functionality | bigAsIs.csv                          | \n",
       "| 0.56                                 | 0.69                                 | 0.13                                 | 0.23                                 | 0.49                                 | 0.65                                 | Transportation.Function              | bigAsIs.csv                          | \n",
       "| 0.89                                 | 0.97                                 | 0.00                                 | 0.00                                 | 0.54                                 | 0.59                                 | Healthcare.Function                  | bigAsIs.csv                          | \n",
       "| 0.50                                 | 0.83                                 | 0.00                                 | 0.00                                 | 0.38                                 | 0.64                                 | IT.Function                          | bigAsIs.csv                          | \n",
       "\n",
       "\n"
      ],
      "text/plain": [
       "  QR   EQR  Rho  extRho statQuoResilience extResilience\n",
       "1 0.80 0.89 0.00 0.00   0.58              0.71         \n",
       "2 0.93 1.00 0.38 0.50   0.74              0.80         \n",
       "3 0.74 0.75 0.00 0.00   0.40              0.43         \n",
       "4 0.56 0.69 0.13 0.23   0.49              0.65         \n",
       "5 0.89 0.97 0.00 0.00   0.54              0.59         \n",
       "6 0.50 0.83 0.00 0.00   0.38              0.64         \n",
       "  Infrastructure                       Scenario   \n",
       "1 Water.Functionality                  bigAsIs.csv\n",
       "2 Emergency.Services.Functionality     bigAsIs.csv\n",
       "3 Critical.Manufacturing.Functionality bigAsIs.csv\n",
       "4 Transportation.Function              bigAsIs.csv\n",
       "5 Healthcare.Function                  bigAsIs.csv\n",
       "6 IT.Function                          bigAsIs.csv"
      ]
     },
     "metadata": {},
     "output_type": "display_data"
    }
   ],
   "source": [
    "head(biDF)"
   ]
  },
  {
   "cell_type": "markdown",
   "metadata": {},
   "source": [
    "Melt the big data frame, so it is amenable to ggplot2. Infrastructure and Scenario are the id.vars"
   ]
  },
  {
   "cell_type": "code",
   "execution_count": 15,
   "metadata": {
    "collapsed": false
   },
   "outputs": [
    {
     "data": {
      "text/html": [
       "<table>\n",
       "<thead><tr><th scope=col>Infrastructure</th><th scope=col>Scenario</th><th scope=col>variable</th><th scope=col>value</th></tr></thead>\n",
       "<tbody>\n",
       "\t<tr><td>Water.Functionality                 </td><td>bigAsIs.csv                         </td><td>QR                                  </td><td>0.80                                </td></tr>\n",
       "\t<tr><td>Emergency.Services.Functionality    </td><td>bigAsIs.csv                         </td><td>QR                                  </td><td>0.93                                </td></tr>\n",
       "\t<tr><td>Critical.Manufacturing.Functionality</td><td>bigAsIs.csv                         </td><td>QR                                  </td><td>0.74                                </td></tr>\n",
       "\t<tr><td>Transportation.Function             </td><td>bigAsIs.csv                         </td><td>QR                                  </td><td>0.56                                </td></tr>\n",
       "\t<tr><td>Healthcare.Function                 </td><td>bigAsIs.csv                         </td><td>QR                                  </td><td>0.89                                </td></tr>\n",
       "\t<tr><td>IT.Function                         </td><td>bigAsIs.csv                         </td><td>QR                                  </td><td>0.50                                </td></tr>\n",
       "</tbody>\n",
       "</table>\n"
      ],
      "text/latex": [
       "\\begin{tabular}{r|llll}\n",
       " Infrastructure & Scenario & variable & value\\\\\n",
       "\\hline\n",
       "\t Water.Functionality                  & bigAsIs.csv                          & QR                                   & 0.80                                \\\\\n",
       "\t Emergency.Services.Functionality     & bigAsIs.csv                          & QR                                   & 0.93                                \\\\\n",
       "\t Critical.Manufacturing.Functionality & bigAsIs.csv                          & QR                                   & 0.74                                \\\\\n",
       "\t Transportation.Function              & bigAsIs.csv                          & QR                                   & 0.56                                \\\\\n",
       "\t Healthcare.Function                  & bigAsIs.csv                          & QR                                   & 0.89                                \\\\\n",
       "\t IT.Function                          & bigAsIs.csv                          & QR                                   & 0.50                                \\\\\n",
       "\\end{tabular}\n"
      ],
      "text/markdown": [
       "\n",
       "Infrastructure | Scenario | variable | value | \n",
       "|---|---|---|---|---|---|\n",
       "| Water.Functionality                  | bigAsIs.csv                          | QR                                   | 0.80                                 | \n",
       "| Emergency.Services.Functionality     | bigAsIs.csv                          | QR                                   | 0.93                                 | \n",
       "| Critical.Manufacturing.Functionality | bigAsIs.csv                          | QR                                   | 0.74                                 | \n",
       "| Transportation.Function              | bigAsIs.csv                          | QR                                   | 0.56                                 | \n",
       "| Healthcare.Function                  | bigAsIs.csv                          | QR                                   | 0.89                                 | \n",
       "| IT.Function                          | bigAsIs.csv                          | QR                                   | 0.50                                 | \n",
       "\n",
       "\n"
      ],
      "text/plain": [
       "  Infrastructure                       Scenario    variable value\n",
       "1 Water.Functionality                  bigAsIs.csv QR       0.80 \n",
       "2 Emergency.Services.Functionality     bigAsIs.csv QR       0.93 \n",
       "3 Critical.Manufacturing.Functionality bigAsIs.csv QR       0.74 \n",
       "4 Transportation.Function              bigAsIs.csv QR       0.56 \n",
       "5 Healthcare.Function                  bigAsIs.csv QR       0.89 \n",
       "6 IT.Function                          bigAsIs.csv QR       0.50 "
      ]
     },
     "metadata": {},
     "output_type": "display_data"
    }
   ],
   "source": [
    "mbiDF <- melt(biDF, id.vars = c(\"Infrastructure\", \"Scenario\"))\n",
    "head(mbiDF)"
   ]
  },
  {
   "cell_type": "code",
   "execution_count": 41,
   "metadata": {
    "collapsed": false
   },
   "outputs": [
    {
     "data": {},
     "metadata": {},
     "output_type": "display_data"
    },
    {
     "data": {
      "image/png": "[encoded data removed]",
      "text/plain": [
       "plot without title"
      ]
     },
     "metadata": {},
     "output_type": "display_data"
    }
   ],
   "source": [
    "bigPlot <- ggplot(mbiDF, aes(Scenario, value, color = variable)) + geom_point() + facet_grid(variable ~ Infrastructure) + \n",
    "    theme(legend.position = \"none\")\n",
    "## Needs work on the labels on the outside, but tells the general story\n",
    "bigPlot"
   ]
  },
  {
   "cell_type": "code",
   "execution_count": 42,
   "metadata": {
    "collapsed": true
   },
   "outputs": [],
   "source": [
    "## ggsave(\"bigPlot.emf\", plot = last_plot(), width = 6.5, height = 11)"
   ]
  }
 ],
 "metadata": {
  "kernelspec": {
   "display_name": "R",
   "language": "R",
   "name": "ir"
  },
  "language_info": {
   "codemirror_mode": "r",
   "file_extension": ".r",
   "mimetype": "text/x-r-source",
   "name": "R",
   "pygments_lexer": "r",
   "version": "3.3.2"
  }
 },
 "nbformat": 4,
 "nbformat_minor": 0
}
